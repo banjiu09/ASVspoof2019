{
 "cells": [
  {
   "cell_type": "code",
   "execution_count": 1,
   "metadata": {},
   "outputs": [],
   "source": [
    "import tensorflow as tf\n",
    "slim = tf.contrib.slim\n",
    "import numpy as np\n",
    "from IPython.display import clear_output\n",
    "from sklearn.model_selection import train_test_split\n",
    "from sklearn.utils import shuffle"
   ]
  },
  {
   "cell_type": "code",
   "execution_count": 2,
   "metadata": {},
   "outputs": [
    {
     "name": "stdout",
     "output_type": "stream",
     "text": [
      "Train shape:  (573254, 20)\n",
      "Test shape:  (245681, 20)\n"
     ]
    }
   ],
   "source": [
    "# load and split train validation set\n",
    "X = np.load('../data/features/data_x.npy')\n",
    "Y = np.load('../data/features/data_y.npy')\n",
    "\n",
    "tr_features, tr_labels = shuffle(X, Y, random_state=0)\n",
    "a = tr_features.shape[0]\n",
    "\n",
    "tr_features = tr_features[:int(a*0.3)]\n",
    "tr_labels = tr_labels[:int(a*0.3)]\n",
    "\n",
    "\n",
    "train_features, test_features, train_labels, test_labels = train_test_split(tr_features,\n",
    "                                                                            tr_labels, \n",
    "                                                                            test_size = 0.3, \n",
    "                                                                            random_state = 42)\n",
    "\n",
    "print('Train shape: ', train_features.shape)\n",
    "print('Test shape: ', test_features.shape)"
   ]
  },
  {
   "cell_type": "markdown",
   "metadata": {},
   "source": [
    "# CNN+RNN arcitecture from \n",
    "\n",
    "https://www.isca-speech.org/archive/Interspeech_2017/pdfs/0360.PDF"
   ]
  },
  {
   "cell_type": "code",
   "execution_count": 3,
   "metadata": {},
   "outputs": [],
   "source": [
    "# network parameters\n",
    "\n",
    "n_dim = tr_features.shape[1]\n",
    "n_steps = 30\n",
    "n_hidden = 300\n",
    "n_classes = 2\n",
    "learning_rate = 0.01\n",
    "batch_size = 100      # Training batch size\n"
   ]
  },
  {
   "cell_type": "code",
   "execution_count": 4,
   "metadata": {
    "code_folding": [
     26
    ],
    "scrolled": true
   },
   "source": [
    "# Network structure\n",
    "\n",
    "\n",
    "X = tf.placeholder(tf.float32,[None,n_dim])\n",
    "Y = tf.placeholder(tf.float32,[None,n_classes])\n",
    "\n",
    "############ Conv-1 ###############\n",
    "net = slim.conv2d(X, 16, [5, 5], stride=[1, 1], scope='conv1')\n",
    "net = PReLU(net, 'conv1_activation')\n",
    "net = tf.nn.max_pool2d(net, strides=[2,1], ksize=[2,2], padding='VALID', name='pool1')\n",
    "\n",
    "############ Conv-2 ###############\n",
    "net = slim.conv2d(net, 16, [1, 1], stride=[1, 1], scope='conv2a')\n",
    "net = PReLU(net, 'conv2a_activation')\n",
    "net = slim.conv2d(net, 32, [1, 1], stride=[1, 1], scope='conv2b')\n",
    "net = PReLU(net, 'conv2b_activation')\n",
    "net = tf.nn.max_pool2d(net, strides=[2,1], ksize=[2,2], padding='VALID', name='pool2')\n",
    "\n",
    "############ Conv-3 ###############\n",
    "net = slim.conv2d(net, 32, [1, 1], stride=[1, 1], scope='conv3a')\n",
    "net = PReLU(net, 'conv3a_activation')\n",
    "net = slim.conv2d(net, 16, [3, 3], stride=[1, 1], scope='conv3b')\n",
    "net = PReLU(net, 'conv3b_activation')\n",
    "net = tf.nn.max_pool2d(net, strides=[2,1], ksize=[2,2], padding='VALID', name='pool3')\n",
    "\n",
    "############ BGRU ###############\n",
    "def BGRU(x, weight, bias, n_steps, n_hidden):\n",
    "    # Prepare data shape to match `rnn` function requirements\n",
    "    # Current data input shape: (batch_size, timesteps, n_input)\n",
    "    # Required shape: 'timesteps' tensors list of shape (batch_size, num_input)\n",
    "    \n",
    "    # Unstack to get a list of 'timesteps' tensors of shape (batch_size, num_input)\n",
    "    x = tf.unstack(x, n_steps, 1)\n",
    "    \n",
    "    # Define GRU cells with tensorflow\n",
    "    # Forward direction cell\n",
    "    lstm_fw_cell = tf.nn.rnn_cell.GRUCell(n_hidden, forget_bias=1.0)\n",
    "    # Backward direction cell\n",
    "    lstm_bw_cell = tf.nn.rnn_cell.GRUCell(n_hidden, forget_bias=1.0)\n",
    "\n",
    "    # Get BiRNN cell output\n",
    "    outputs, _, _ = rnn.static_bidirectional_rnn(lstm_fw_cell, lstm_bw_cell, x,dtype=tf.float32)\n",
    "\n",
    "    # Linear activation, using rnn inner loop last output\n",
    "    return tf.matmul(outputs[-1], weight) + bias\n",
    "    \n",
    "weight = tf.Variable(tf.random_normal([n_hidden, n_classes]))\n",
    "bias = tf.Variable(tf.random_normal([n_classes]))\n",
    "output_logits = BGRU(net, weight, bias, n_steps, n_hidden)\n",
    "y_pred = tf.nn.softmax(output_logits)\n"
   ]
  },
  {
   "cell_type": "code",
   "execution_count": null,
   "metadata": {
    "code_folding": []
   },
   "outputs": [],
   "source": [
    "########## cost funstion and optimizer #############\n",
    "# Model predictions\n",
    "cls_prediction = tf.argmax(output_logits, axis=1, name='predictions')\n",
    "\n",
    "# Define the loss function, optimizer, and accuracy\n",
    "loss = tf.reduce_mean(tf.nn.softmax_cross_entropy_with_logits(labels=Y, logits=output_logits), \n",
    "                      name='loss')\n",
    "optimizer = tf.train.AdamOptimizer(learning_rate=learning_rate, name='Adam-op').minimize(loss)\n",
    "correct_prediction = tf.equal(tf.argmax(output_logits, 1), tf.argmax(Y, 1), name='correct_pred')\n",
    "accuracy = tf.reduce_mean(tf.cast(correct_prediction, tf.float32), name='accuracy')\n",
    "\n",
    "#\n",
    "init = tf.global_variables_initializer()"
   ]
  },
  {
   "cell_type": "code",
   "execution_count": null,
   "metadata": {
    "code_folding": [
     0
    ]
   },
   "outputs": [],
   "source": [
    "# tensorboard\n",
    "session = tf.Session()\n",
    "#to create the graph summary\n",
    "writer = tf.summary.FileWriter('logdir', session.graph)"
   ]
  },
  {
   "cell_type": "code",
   "execution_count": null,
   "metadata": {
    "code_folding": [
     0
    ]
   },
   "outputs": [],
   "source": [
    "def get_next_batch(x, y, start, end):\n",
    "    x_batch = x[start:end]\n",
    "    y_batch = y[start:end]\n",
    "    return x_batch, y_batch\n",
    "\n",
    "\n",
    "sess = tf.InteractiveSession()\n",
    "sess.run(init)\n",
    "global_step = 0\n",
    "# Number of training iterations in each epoch\n",
    "num_tr_iter = int(len(train_features) / batch_size)\n",
    "for epoch in range(epochs):\n",
    "    print('Training epoch: {}'.format(epoch + 1))\n",
    "    for iteration in range(num_tr_iter):\n",
    "        global_step += 1\n",
    "        start = iteration * batch_size\n",
    "        end = (iteration + 1) * batch_size\n",
    "        x_batch, y_batch = get_next_batch(train_features, train_labels, start, end)\n",
    "        x_batch = x_batch.reshape((batch_size, timesteps, n_dim))\n",
    "        # Run optimization op (backprop)\n",
    "        feed_dict_batch = {x: x_batch, y: y_batch}\n",
    "        sess.run(optimizer, feed_dict=feed_dict_batch)\n",
    "\n",
    "        if iteration % display_freq == 0:\n",
    "            # Calculate and display the batch loss and accuracy\n",
    "            loss_batch, acc_batch = sess.run([loss, accuracy],\n",
    "                                             feed_dict=feed_dict_batch)\n",
    "\n",
    "            print(\"iter {0:3d}:\\t Loss={1:.2f},\\tTraining Accuracy={2:.01%}\".\n",
    "                  format(iteration, loss_batch, acc_batch))\n",
    "\n",
    "    # Run validation after every epoch\n",
    "\n",
    "    feed_dict_valid = {x: test_features[:1000].reshape((-1, n_steps, n_dim)), y: test_labels[:1000]}\n",
    "    loss_valid, acc_valid = sess.run([loss, accuracy], feed_dict=feed_dict_valid)\n",
    "    print('---------------------------------------------------------')\n",
    "    print(\"Epoch: {0}, validation loss: {1:.2f}, validation accuracy: {2:.01%}\".\n",
    "          format(epoch + 1, loss_valid, acc_valid))\n",
    "    print('---------------------------------------------------------')\n",
    " "
   ]
  }
 ],
 "metadata": {
  "kernelspec": {
   "display_name": "Python 3",
   "language": "python",
   "name": "python3"
  },
  "language_info": {
   "codemirror_mode": {
    "name": "ipython",
    "version": 3
   },
   "file_extension": ".py",
   "mimetype": "text/x-python",
   "name": "python",
   "nbconvert_exporter": "python",
   "pygments_lexer": "ipython3",
   "version": "3.6.6"
  }
 },
 "nbformat": 4,
 "nbformat_minor": 2
}
