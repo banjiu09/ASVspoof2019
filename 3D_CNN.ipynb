{
 "cells": [
  {
   "cell_type": "code",
   "execution_count": null,
   "metadata": {},
   "outputs": [],
   "source": [
    "import tensorflow as tf\n",
    "slim = tf.contrib.slim\n",
    "import numpy as np\n",
    "from IPython.display import clear_output\n",
    "from sklearn.model_selection import train_test_split\n",
    "from sklearn.utils import shuffle"
   ]
  },
  {
   "cell_type": "code",
   "execution_count": null,
   "metadata": {},
   "outputs": [],
   "source": [
    "# load and split train validation set\n",
    "X = np.load('../data/features/data_x.npy')\n",
    "Y = np.load('../data/features/data_y.npy')\n",
    "\n",
    "tr_features, tr_labels = shuffle(X, Y, random_state=0)\n",
    "a = tr_features.shape[0]\n",
    "\n",
    "tr_features = tr_features[:int(a*0.3)]\n",
    "tr_labels = tr_labels[:int(a*0.3)]\n",
    "\n",
    "\n",
    "train_features, test_features, train_labels, test_labels = train_test_split(tr_features,\n",
    "                                                                            tr_labels, \n",
    "                                                                            test_size = 0.3, \n",
    "                                                                            random_state = 42)\n",
    "\n",
    "print('Train shape: ', train_features.shape)\n",
    "print('Test shape: ', test_features.shape)"
   ]
  },
  {
   "cell_type": "markdown",
   "metadata": {},
   "source": [
    "# CNN+RNN arcitecture from \n",
    "\n",
    "https://www.isca-speech.org/archive/Interspeech_2017/pdfs/0360.PDF"
   ]
  },
  {
   "cell_type": "code",
   "execution_count": null,
   "metadata": {
    "code_folding": [
     28
    ]
   },
   "outputs": [],
   "source": [
    "# \n",
    "# Network Parameters\n",
    "n_input = 20 \n",
    "n_steps = 30\n",
    "n_hidden = 300\n",
    "n_classes = 2\n",
    "\n",
    "\n",
    "############ Conv-1 ###############\n",
    "net = slim.conv2d(train_features, 16, [5, 5], stride=[1, 1], scope='conv1')\n",
    "net = PReLU(net, 'conv1_activation')\n",
    "net = tf.nn.max_pool2d(net, strides=[2,1], ksize=[2,2], padding='VALID', name='pool1')\n",
    "\n",
    "############ Conv-2 ###############\n",
    "net = slim.conv2d(net, 16, [1, 1], stride=[1, 1], scope='conv2a')\n",
    "net = PReLU(net, 'conv2a_activation')\n",
    "net = slim.conv2d(net, 32, [1, 1], stride=[1, 1], scope='conv2b')\n",
    "net = PReLU(net, 'conv2b_activation')\n",
    "net = tf.nn.max_pool2d(net, strides=[2,1], ksize=[2,2], padding='VALID', name='pool2')\n",
    "\n",
    "############ Conv-3 ###############\n",
    "net = slim.conv2d(net, 32, [1, 1], stride=[1, 1], scope='conv3a')\n",
    "net = PReLU(net, 'conv3a_activation')\n",
    "net = slim.conv2d(net, 16, [3, 3], stride=[1, 1], scope='conv3b')\n",
    "net = PReLU(net, 'conv3b_activation')\n",
    "net = tf.nn.max_pool2d(net, strides=[2,1], ksize=[2,2], padding='VALID', name='pool3')\n",
    "\n",
    "############ BGRU ###############\n",
    "def BGRU(x, weight, bias, n_steps, n_hidden):\n",
    "    # Prepare data shape to match `rnn` function requirements\n",
    "    # Current data input shape: (batch_size, timesteps, n_input)\n",
    "    # Required shape: 'timesteps' tensors list of shape (batch_size, num_input)\n",
    "    \n",
    "    # Unstack to get a list of 'timesteps' tensors of shape (batch_size, num_input)\n",
    "    x = tf.unstack(x, n_steps, 1)\n",
    "    \n",
    "    # Define GRU cells with tensorflow\n",
    "    # Forward direction cell\n",
    "    lstm_fw_cell = tf.nn.rnn_cell.GRUCell(n_hidden, forget_bias=1.0)\n",
    "    # Backward direction cell\n",
    "    lstm_bw_cell = tf.nn.rnn_cell.GRUCell(n_hidden, forget_bias=1.0)\n",
    "\n",
    "    # Get BiRNN cell output\n",
    "    outputs, _, _ = rnn.static_bidirectional_rnn(lstm_fw_cell, lstm_bw_cell, x,dtype=tf.float32)\n",
    "\n",
    "    # Linear activation, using rnn inner loop last output\n",
    "    return tf.nn.softmax(tf.matmul(outputs[-1], weight) + bias)\n",
    "    \n",
    "weight = tf.Variable(tf.random_normal([n_hidden, n_classes]))\n",
    "bias = tf.Variable(tf.random_normal([n_classes]))\n",
    "prediction = BGRU(net, weight, bias, n_steps, n_hidden)\n",
    "\n",
    "########## cost funstion and optimizer #############\n",
    "cost_function = -tf.reduce_sum(Y * tf.log(y_))\n",
    "optimizer = tf.train.GradientDescentOptimizer(learning_rate).minimize(cost_function)\n",
    "optimizer = tf.train.AdamOptimizer(learning_rate = learning_rate).minimize(cost_function)\n",
    "\n",
    "correct_prediction = tf.equal(tf.argmax(y_,1), tf.argmax(Y,1))\n",
    "accuracy = tf.reduce_mean(tf.cast(correct_prediction, tf.float32))\n",
    "\n",
    "#\n",
    "init = tf.global_variables_initializer()"
   ]
  },
  {
   "cell_type": "code",
   "execution_count": null,
   "metadata": {},
   "outputs": [],
   "source": [
    "# tensorboard\n",
    "session = tf.Session()\n",
    "#to create the graph summary\n",
    "writer = tf.summary.FileWriter('logdir', session.graph)"
   ]
  },
  {
   "cell_type": "code",
   "execution_count": null,
   "metadata": {},
   "outputs": [],
   "source": [
    "cost_history = np.empty(shape=[1],dtype=float)\n",
    "y_true, y_pred = None, None\n",
    "with tf.Session() as session:\n",
    "    session.run(init)\n",
    "    \n",
    "    for epoch in range(training_epochs):            \n",
    "        _,cost = session.run([optimizer,cost_function],feed_dict={X:train_features,Y:train_labels})\n",
    "        cost_history = np.append(cost_history,cost)\n",
    "    \n",
    "    y_pred = session.run(tf.argmax(y_,1),feed_dict={X: test_features})\n",
    "    y_true = session.run(tf.argmax(test_labels,1))\n",
    "    print(\"Test accuracy: \",\n",
    "          round(session.run(accuracy, feed_dict={X: test_features,Y: test_labels}),3))"
   ]
  }
 ],
 "metadata": {
  "kernelspec": {
   "display_name": "Python 3",
   "language": "python",
   "name": "python3"
  },
  "language_info": {
   "codemirror_mode": {
    "name": "ipython",
    "version": 3
   },
   "file_extension": ".py",
   "mimetype": "text/x-python",
   "name": "python",
   "nbconvert_exporter": "python",
   "pygments_lexer": "ipython3",
   "version": "3.6.6"
  }
 },
 "nbformat": 4,
 "nbformat_minor": 2
}
